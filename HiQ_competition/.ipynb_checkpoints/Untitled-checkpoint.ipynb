{
 "cells": [
  {
   "cell_type": "code",
   "execution_count": 1,
   "metadata": {},
   "outputs": [],
   "source": [
    "# -*- coding: utf-8 -*-\n",
    "\n",
    "import numpy as np\n",
    "import pandas as pd \n",
    "import datetime \n",
    "import projectq.setups.decompositions as rules\n",
    "\n",
    "from projectq.backends import Simulator\n",
    "\n",
    "from projectq.cengines import (AutoReplacer,\n",
    "                               LocalOptimizer,\n",
    "                               TagRemover,\n",
    "                               DecompositionRuleSet)\n",
    "from projectq.ops import H, Rx, Ry, Rz, Measure, All, CNOT\n",
    "from projectq import MainEngine\n",
    "from scipy.optimize import minimize\n",
    "\n",
    "backend = Simulator(gate_fusion=True)\n",
    "\n",
    "cache_depth = 10\n",
    "rule_set = DecompositionRuleSet(modules=[rules])\n",
    "engines = [TagRemover(), LocalOptimizer(cache_depth), AutoReplacer(rule_set), TagRemover(), LocalOptimizer(cache_depth)\n",
    "           ]\n",
    "\n",
    "engine = MainEngine(backend, engines)\n",
    "\n",
    "# ============================================\n",
    "\n",
    "from problem2 import *\n",
    "\n",
    "def normalize(array):\n",
    "    return array/np.sqrt(np.sum(array**2))\n",
    "\n",
    "def gen_random_state(n):\n",
    "    return normalize(np.array([np.random.rand() for i in range(n)]))\n",
    "\n",
    "def check_solution(param,p,eng):\n",
    "    n=int(len(param)/3/p)\n",
    "    param=param.reshape((n,3*p))\n",
    "    amplitudes=[]\n",
    "\n",
    "    qureg = eng.allocate_qureg(n)\n",
    "    All(H) | qureg\n",
    "\n",
    "    for m in range(p):\n",
    "        for i in range(n):\n",
    "            Rx(param[i, 3*m+0]) | qureg[i]\n",
    "            Ry(param[i, 3*m+1]) | qureg[i]\n",
    "            Rz(param[i, 3*m+2]) | qureg[i]\n",
    "\n",
    "        CNOT | (qureg[n-1], qureg[0])\n",
    "        for i in range(n-1):\n",
    "            CNOT | (qureg[i], qureg[i+1])\n",
    "\n",
    "    eng.flush()\n",
    "    amplitudes=[eng.backend.get_amplitude(conf, qureg) for conf in bitstring(n)]\n",
    "\n",
    "    All(Measure)|qureg\n",
    "    return amplitudes"
   ]
  },
  {
   "cell_type": "code",
   "execution_count": 2,
   "metadata": {},
   "outputs": [],
   "source": [
    "def report(i,N,report_rate=2):\n",
    "    if (i+1)%report_rate==0:\n",
    "        print(\"progress {0}/{1}\".format(i+1,N))\n"
   ]
  },
  {
   "cell_type": "code",
   "execution_count": 3,
   "metadata": {},
   "outputs": [],
   "source": [
    "@np.vectorize\n",
    "def norm(arr):\n",
    "    return np.sum(arr**2)"
   ]
  },
  {
   "cell_type": "code",
   "execution_count": 4,
   "metadata": {},
   "outputs": [],
   "source": [
    "def bitstring(n):\n",
    "    return [bin(i)[2:].zfill(n) for i in range(2**n)]"
   ]
  },
  {
   "cell_type": "code",
   "execution_count": 5,
   "metadata": {},
   "outputs": [
    {
     "data": {
      "text/plain": [
       "['000', '001', '010', '011', '100', '101', '110', '111']"
      ]
     },
     "execution_count": 5,
     "metadata": {},
     "output_type": "execute_result"
    }
   ],
   "source": [
    "bitstring(3)"
   ]
  },
  {
   "cell_type": "code",
   "execution_count": 6,
   "metadata": {},
   "outputs": [],
   "source": [
    "def random_mapper(n):\n",
    "    res=\"{0}\\n\".format(n)\n",
    "    edges=[]\n",
    "    for i in range(np.random.randint(2*n,n**2)):\n",
    "        a=np.random.randint(1,n+1)\n",
    "        b=np.random.randint(1,n+1)\n",
    "        edge=\"{0},{1}\\n\".format(a,b)\n",
    "        if edge not in edges and a!=b and \"{0},{1}\\n\".format(b,a) not in edges:\n",
    "            edges.append(edge)\n",
    "    for e in edges:\n",
    "        res+=e\n",
    "    return res[:-1]"
   ]
  },
  {
   "cell_type": "code",
   "execution_count": 7,
   "metadata": {},
   "outputs": [
    {
     "data": {
      "text/plain": [
       "int"
      ]
     },
     "execution_count": 7,
     "metadata": {},
     "output_type": "execute_result"
    }
   ],
   "source": [
    "type(reduce_connection(*parse_mapper(random_mapper(4)))[2][1])"
   ]
  },
  {
   "cell_type": "code",
   "execution_count": 8,
   "metadata": {},
   "outputs": [],
   "source": [
    "from problem2 import pre_cal_param"
   ]
  },
  {
   "cell_type": "code",
   "execution_count": null,
   "metadata": {},
   "outputs": [
    {
     "name": "stdout",
     "output_type": "stream",
     "text": [
      "2019-08-01 03:39:00.674173\n",
      "starting benchmarking...\n"
     ]
    }
   ],
   "source": [
    "N=1\n",
    "n=12\n",
    "length=2**n\n",
    "p=1 if n>4 else 1\n",
    "mapper=random_mapper(n)\n",
    "method=\"COBYLA\"#\"TNC\"\n",
    "\n",
    "# save the following data\n",
    "# target state\n",
    "# generated state\n",
    "# distance\n",
    "# optimal parameter\n",
    "# iteration\n",
    "\n",
    "t1=datetime.datetime.now()\n",
    "print(t1)\n",
    "data=[]\n",
    "print(\"starting benchmarking...\")\n",
    "for i in range(N):\n",
    "    target_state=gen_random_state(length) \n",
    "    n = int(np.log2(len(target_state)))\n",
    "    reduced_mapper=reduce_connection(*parse_mapper(mapper))\n",
    "    \n",
    "    \n",
    "    param = pre_cal_param(engine,target_state,p,connections=reduced_mapper,N=n**2*5)\n",
    "    boundary=[(0,np.pi*2) for i in param]\n",
    "    result=minimize(cost_func,x0=param, args=(target_state,p,engine,reduced_mapper),bounds=boundary,method=method)\n",
    "    \n",
    "    \n",
    "    cost=result.fun\n",
    "    optimal_param=result.x\n",
    "    n_iter=result.nfev\n",
    "    \n",
    "    \n",
    "    gen_state=check_solution(optimal_param,p,engine)\n",
    "    data.append([target_state,gen_state,optimal_param,cost,n_iter])\n",
    "    report(i,N,5)\n",
    "\n",
    "print(\"writing data...\")\n",
    "\n",
    "t2=datetime.datetime.now()\n",
    "print(t2)\n",
    "print(t2-t1)\n",
    "\n",
    "wrapper=pd.DataFrame(data,columns=[\"target\",\"result\",\"opt_param\",\"cost\",\"n_iter\"])"
   ]
  },
  {
   "cell_type": "code",
   "execution_count": null,
   "metadata": {},
   "outputs": [],
   "source": [
    "wrapper"
   ]
  },
  {
   "cell_type": "code",
   "execution_count": 30,
   "metadata": {},
   "outputs": [
    {
     "data": {
      "text/plain": [
       "0    0.162882\n",
       "Name: cost, dtype: float64"
      ]
     },
     "execution_count": 30,
     "metadata": {},
     "output_type": "execute_result"
    }
   ],
   "source": [
    "wrapper.cost #p=3"
   ]
  },
  {
   "cell_type": "code",
   "execution_count": 32,
   "metadata": {},
   "outputs": [
    {
     "data": {
      "text/plain": [
       "0    [3.9525422075680003, 5.882613829123528, 0.3400...\n",
       "Name: opt_param, dtype: object"
      ]
     },
     "execution_count": 32,
     "metadata": {},
     "output_type": "execute_result"
    }
   ],
   "source": [
    "wrapper.opt_param"
   ]
  },
  {
   "cell_type": "code",
   "execution_count": null,
   "metadata": {},
   "outputs": [],
   "source": []
  }
 ],
 "metadata": {
  "kernelspec": {
   "display_name": "Python 3",
   "language": "python",
   "name": "python3"
  },
  "language_info": {
   "codemirror_mode": {
    "name": "ipython",
    "version": 3
   },
   "file_extension": ".py",
   "mimetype": "text/x-python",
   "name": "python",
   "nbconvert_exporter": "python",
   "pygments_lexer": "ipython3",
   "version": "3.7.3"
  }
 },
 "nbformat": 4,
 "nbformat_minor": 2
}
