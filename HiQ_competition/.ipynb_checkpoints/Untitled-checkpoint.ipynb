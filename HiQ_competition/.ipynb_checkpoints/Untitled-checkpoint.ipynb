{
 "cells": [
  {
   "cell_type": "code",
   "execution_count": 1,
   "metadata": {},
   "outputs": [],
   "source": [
    "# -*- coding: utf-8 -*-\n",
    "\n",
    "import numpy as np\n",
    "import pandas as pd \n",
    "import datetime \n",
    "import projectq.setups.decompositions as rules\n",
    "\n",
    "from projectq.backends import Simulator\n",
    "\n",
    "from projectq.cengines import (AutoReplacer,\n",
    "                               LocalOptimizer,\n",
    "                               TagRemover,\n",
    "                               DecompositionRuleSet)\n",
    "from projectq.ops import H, Rx, Ry, Rz, Measure, All, CNOT\n",
    "from projectq import MainEngine\n",
    "from scipy.optimize import minimize\n",
    "\n",
    "backend = Simulator(gate_fusion=True)\n",
    "\n",
    "cache_depth = 10\n",
    "rule_set = DecompositionRuleSet(modules=[rules])\n",
    "engines = [TagRemover(), LocalOptimizer(cache_depth), AutoReplacer(rule_set), TagRemover(), LocalOptimizer(cache_depth)\n",
    "           ]\n",
    "\n",
    "engine = MainEngine(backend, engines)\n",
    "\n",
    "# ============================================\n",
    "\n",
    "from problem2 import *\n",
    "\n",
    "def normalize(array):\n",
    "    return array/np.sqrt(np.sum(array**2))\n",
    "\n",
    "def gen_random_state(n):\n",
    "    return normalize(np.array([np.random.rand() for i in range(n)]))\n",
    "\n",
    "def check_solution(param,p,eng):\n",
    "    n=int(len(param)/3/p)\n",
    "    param=param.reshape((n,3*p))\n",
    "    amplitudes=[]\n",
    "\n",
    "    qureg = eng.allocate_qureg(n)\n",
    "    All(H) | qureg\n",
    "\n",
    "    for m in range(p):\n",
    "        for i in range(n):\n",
    "            Rx(param[i, 3*m+0]) | qureg[i]\n",
    "            Ry(param[i, 3*m+1]) | qureg[i]\n",
    "            Rz(param[i, 3*m+2]) | qureg[i]\n",
    "\n",
    "        CNOT | (qureg[n-1], qureg[0])\n",
    "        for i in range(n-1):\n",
    "            CNOT | (qureg[i], qureg[i+1])\n",
    "\n",
    "    eng.flush()\n",
    "    amplitudes=[eng.backend.get_amplitude(conf, qureg) for conf in bitstring(n)]\n",
    "\n",
    "    All(Measure)|qureg\n",
    "    return amplitudes"
   ]
  },
  {
   "cell_type": "code",
   "execution_count": 9,
   "metadata": {},
   "outputs": [],
   "source": [
    "def bitstring(n):\n",
    "    if n > 1:\n",
    "        return ['0'+bits for bits in bitstring(n-1)]+['1'+bits for bits in bitstring(n-1)]\n",
    "    elif n == 1:\n",
    "        return ['0', '1']\n",
    "    else:\n",
    "        print('error')"
   ]
  },
  {
   "cell_type": "code",
   "execution_count": 21,
   "metadata": {},
   "outputs": [],
   "source": [
    "def bitstring(n):\n",
    "    return [bin(i)[2:].zfill(n) for i in range(2**n)]"
   ]
  },
  {
   "cell_type": "code",
   "execution_count": 20,
   "metadata": {},
   "outputs": [
    {
     "data": {
      "text/plain": [
       "['000', '001', '010', '011', '100', '101', '110', '111']"
      ]
     },
     "execution_count": 20,
     "metadata": {},
     "output_type": "execute_result"
    }
   ],
   "source": [
    "bitstring(3)"
   ]
  },
  {
   "cell_type": "code",
   "execution_count": 7,
   "metadata": {},
   "outputs": [
    {
     "name": "stdout",
     "output_type": "stream",
     "text": [
      "starting benchmarking...\n",
      "writing data...\n"
     ]
    }
   ],
   "source": [
    "N=3\n",
    "length=2**5\n",
    "p=1\n",
    "method=\"COBYLA\"\n",
    "\n",
    "\n",
    "\n",
    "# save the following data\n",
    "# target state\n",
    "# generated state\n",
    "# distance\n",
    "# optimal parameter\n",
    "# iteration\n",
    "\n",
    "\n",
    "\n",
    "def report(i,N,report_rate=2):\n",
    "    if (i+1)%report_rate==0:\n",
    "        print(\"progress {0}/{1}\".format(i+1,N))\n",
    "\n",
    "data=[]\n",
    "print(\"starting benchmarking...\")\n",
    "for i in range(N):\n",
    "    target_state=gen_random_state(length) \n",
    "    n = int(np.log2(len(target_state)))\n",
    "    param = np.ones((n, 3*p)).flatten()\n",
    "\n",
    "    result=minimize(cost_func,x0=param, args=(target_state,p,engine,None),method=method)\n",
    "    \n",
    "    \n",
    "    cost=result.fun\n",
    "    optimal_param=result.x\n",
    "    n_iter=result.nfev\n",
    "    gen_state=check_solution(optimal_param,p,engine)\n",
    "    data.append([target_state,gen_state,optimal_param,cost,n_iter])\n",
    "    report(i,N,5)\n",
    "\n",
    "print(\"writing data...\")\n",
    "\n",
    "wrapper=pd.DataFrame(data,columns=[\"target\",\"result\",\"opt_param\",\"cost\",\"n_iter\"])"
   ]
  },
  {
   "cell_type": "code",
   "execution_count": 8,
   "metadata": {},
   "outputs": [
    {
     "data": {
      "text/html": [
       "<div>\n",
       "<style scoped>\n",
       "    .dataframe tbody tr th:only-of-type {\n",
       "        vertical-align: middle;\n",
       "    }\n",
       "\n",
       "    .dataframe tbody tr th {\n",
       "        vertical-align: top;\n",
       "    }\n",
       "\n",
       "    .dataframe thead th {\n",
       "        text-align: right;\n",
       "    }\n",
       "</style>\n",
       "<table border=\"1\" class=\"dataframe\">\n",
       "  <thead>\n",
       "    <tr style=\"text-align: right;\">\n",
       "      <th></th>\n",
       "      <th>target</th>\n",
       "      <th>result</th>\n",
       "      <th>opt_param</th>\n",
       "      <th>cost</th>\n",
       "      <th>n_iter</th>\n",
       "    </tr>\n",
       "  </thead>\n",
       "  <tbody>\n",
       "    <tr>\n",
       "      <th>0</th>\n",
       "      <td>[0.289754999671062, 0.0852197395537238, 0.1662...</td>\n",
       "      <td>[(-0.1443621827433328+0.04967268770053643j), (...</td>\n",
       "      <td>[1.5469254713625038, -0.04980395265558092, 6.6...</td>\n",
       "      <td>0.091110</td>\n",
       "      <td>334</td>\n",
       "    </tr>\n",
       "    <tr>\n",
       "      <th>1</th>\n",
       "      <td>[0.10275697439936668, 0.0663780758296816, 0.11...</td>\n",
       "      <td>[(-0.021780961765859683-0.20787231599453806j),...</td>\n",
       "      <td>[1.4507548790368274, 0.007883135956343768, -2....</td>\n",
       "      <td>0.146167</td>\n",
       "      <td>347</td>\n",
       "    </tr>\n",
       "    <tr>\n",
       "      <th>2</th>\n",
       "      <td>[0.27284790244802687, 0.16779057048127136, 0.2...</td>\n",
       "      <td>[(0.04456313762649192-0.24583633618869596j), (...</td>\n",
       "      <td>[2.3252527587156173, 0.020275679878073608, -2....</td>\n",
       "      <td>0.074011</td>\n",
       "      <td>329</td>\n",
       "    </tr>\n",
       "  </tbody>\n",
       "</table>\n",
       "</div>"
      ],
      "text/plain": [
       "                                              target  \\\n",
       "0  [0.289754999671062, 0.0852197395537238, 0.1662...   \n",
       "1  [0.10275697439936668, 0.0663780758296816, 0.11...   \n",
       "2  [0.27284790244802687, 0.16779057048127136, 0.2...   \n",
       "\n",
       "                                              result  \\\n",
       "0  [(-0.1443621827433328+0.04967268770053643j), (...   \n",
       "1  [(-0.021780961765859683-0.20787231599453806j),...   \n",
       "2  [(0.04456313762649192-0.24583633618869596j), (...   \n",
       "\n",
       "                                           opt_param      cost  n_iter  \n",
       "0  [1.5469254713625038, -0.04980395265558092, 6.6...  0.091110     334  \n",
       "1  [1.4507548790368274, 0.007883135956343768, -2....  0.146167     347  \n",
       "2  [2.3252527587156173, 0.020275679878073608, -2....  0.074011     329  "
      ]
     },
     "execution_count": 8,
     "metadata": {},
     "output_type": "execute_result"
    }
   ],
   "source": [
    "wrapper"
   ]
  },
  {
   "cell_type": "code",
   "execution_count": null,
   "metadata": {},
   "outputs": [],
   "source": []
  }
 ],
 "metadata": {
  "kernelspec": {
   "display_name": "Python 3",
   "language": "python",
   "name": "python3"
  },
  "language_info": {
   "codemirror_mode": {
    "name": "ipython",
    "version": 3
   },
   "file_extension": ".py",
   "mimetype": "text/x-python",
   "name": "python",
   "nbconvert_exporter": "python",
   "pygments_lexer": "ipython3",
   "version": "3.7.3"
  }
 },
 "nbformat": 4,
 "nbformat_minor": 2
}
