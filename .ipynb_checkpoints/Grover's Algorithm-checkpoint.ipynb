{
 "cells": [
  {
   "cell_type": "code",
   "execution_count": 2,
   "metadata": {},
   "outputs": [],
   "source": [
    "import math\n",
    "from projectq import MainEngine\n",
    "from projectq.ops import H, Z, X, Measure, All, XOR\n",
    "from projectq.meta import Loop, Compute, Uncompute, Control"
   ]
  },
  {
   "cell_type": "code",
   "execution_count": 6,
   "metadata": {},
   "outputs": [],
   "source": [
    "eng=MainEngine()"
   ]
  },
  {
   "cell_type": "code",
   "execution_count": 58,
   "metadata": {},
   "outputs": [],
   "source": [
    "def D(eng,x):\n",
    "    # the example given by the projectQ documentation is really wired\n",
    "    # how does this work?\n",
    "    '''\n",
    "    implement grover diffusion gate\n",
    "    verification is given by gate decomposition\n",
    "    '''\n",
    "    with Compute(eng):\n",
    "        All(H) | x\n",
    "        All(X) | x\n",
    "    with Control(eng, x[0:-1]):\n",
    "        Z | x[-1]\n",
    "    Uncompute(eng)"
   ]
  },
  {
   "cell_type": "code",
   "execution_count": 80,
   "metadata": {},
   "outputs": [],
   "source": [
    "def O(eng,x,b):\n",
    "    # how does this work???\n",
    "    with Compute(eng):\n",
    "        X| x[3] # determine the target bit \n",
    "    with Control(eng,x):\n",
    "        X | b\n",
    "    Uncompute(eng)"
   ]
  },
  {
   "cell_type": "code",
   "execution_count": 81,
   "metadata": {},
   "outputs": [],
   "source": [
    "def grover_search(eng,n,O_func):\n",
    "    init_X=eng.allocate_qureg(n)\n",
    "    All(H)|init_X # superposition\n",
    "    ancillary_B=eng.allocate_qubit()\n",
    "    X|ancillary_B # input |1> state\n",
    "    H|ancillary_B # get |-> state\n",
    "    \n",
    "    iter_n=int(math.pi/4.*math.sqrt(1 << n))\n",
    "    # apply Oracle gate and Grover Diffusion gate \n",
    "    with Loop(eng,iter_n):\n",
    "        O(eng,init_X,ancillary_B)\n",
    "        D(eng,init_X)\n",
    "    \n",
    "    # measure the result, large probability to reach the target bit\n",
    "    All(Measure) | init_X\n",
    "    Measure | ancillary_B\n",
    "    eng.flush()\n",
    "    \n",
    "    return [int(x) for x in init_X]"
   ]
  },
  {
   "cell_type": "code",
   "execution_count": 83,
   "metadata": {},
   "outputs": [
    {
     "name": "stdout",
     "output_type": "stream",
     "text": [
      "[1, 1, 1, 0, 1, 1, 1, 1]\n"
     ]
    }
   ],
   "source": [
    "if __name__ == \"__main__\":\n",
    "    eng = MainEngine()\n",
    "    print(grover_search(eng, 8, O))"
   ]
  }
 ],
 "metadata": {
  "kernelspec": {
   "display_name": "Python 3",
   "language": "python",
   "name": "python3"
  },
  "language_info": {
   "codemirror_mode": {
    "name": "ipython",
    "version": 3
   },
   "file_extension": ".py",
   "mimetype": "text/x-python",
   "name": "python",
   "nbconvert_exporter": "python",
   "pygments_lexer": "ipython3",
   "version": "3.7.3"
  }
 },
 "nbformat": 4,
 "nbformat_minor": 2
}
