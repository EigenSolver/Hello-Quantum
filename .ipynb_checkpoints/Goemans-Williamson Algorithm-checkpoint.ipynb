{
 "cells": [
  {
   "cell_type": "code",
   "execution_count": 6,
   "metadata": {},
   "outputs": [],
   "source": [
    "# from https://github.com/ericproffitt/MaxCut\n",
    "\n",
    "using Convex\n",
    "using SCS\n",
    "using LinearAlgebra"
   ]
  },
  {
   "cell_type": "code",
   "execution_count": 7,
   "metadata": {},
   "outputs": [
    {
     "data": {
      "text/plain": [
       "goemansWilliamson (generic function with 1 method)"
      ]
     },
     "execution_count": 7,
     "metadata": {},
     "output_type": "execute_result"
    }
   ],
   "source": [
    "function goemansWilliamson(W::Matrix{T}; tol::Real=1e-1, iter::Int=100) where T<:Real\n",
    "    \"Partition a graph into two disjoint sets such that the sum of the edge weights\n",
    "    which cross the partition is as large as possible (known to be NP-hard).\"\n",
    "\n",
    "    \"A cut of a graph can be produced by assigning either 1 or -1 to each vertex.  The Goemans-Williamson\n",
    "    algorithm relaxes this binary condition to allow for vector assignments drawn from the (n-1)-sphere\n",
    "    (choosing an n-1 dimensional space will ensure seperability).  This relaxation can then be written as\n",
    "    an SDP.  Once the optimal vector assignments are found, origin centered hyperplanes are generated and\n",
    "    their corresponding cuts evaluated.  After 'iter' trials, or when the desired tolerance is reached,\n",
    "    the hyperplane with the highest corresponding binary cut is used to partition the vertices.\"\n",
    "\n",
    "    \"W:\t\tAdjacency matrix.\"\n",
    "    \"tol:\tMaximum acceptable distance between a cut and the MAXCUT upper bound.\"\n",
    "    \"iter:\tMaximum number of hyperplane iterations before a cut is chosen.\"\n",
    "\n",
    "    LinearAlgebra.checksquare(W)\n",
    "    @assert LinearAlgebra.issymmetric(W) #\"Adjacency matrix must be symmetric.\"\n",
    "    @assert all(W .>= 0) #\"Entries of the adjacency matrix must be nonnegative.\"\n",
    "    @assert all(diag(W) .== 0) #\"Diagonal entries of adjacency matrix must be zero.\"\n",
    "    @assert tol > 0 #\"The tolerance 'tol' must be positive.\"\n",
    "    @assert iter > 0 #\"The number of iterations 'iter' must be a positive integer.\"\n",
    "    \n",
    "    \"This is the standard SDP Relaxation of the MAXCUT problem, a reference can be found at\n",
    "    http://www.sfu.ca/~mdevos/notes/semidef/GW.pdf.\"\n",
    "    k = size(W, 1)\n",
    "    S = Semidefinite(k)\n",
    "\n",
    "    expr = dot(W, S)\n",
    "    constr = [S[i,i] == 1.0 for i in 1:k]\n",
    "    problem = minimize(expr, constr...)\n",
    "    solve!(problem, SCSSolver(verbose=0))\n",
    "\n",
    "    ### Ensure symmetric positive-definite.\n",
    "    A = 0.5 * (S.value + S.value')\n",
    "    A += (max(0, -eigmin(A)) + eps(1e3))*I\n",
    "\n",
    "    X = Matrix(cholesky(A))\n",
    "\n",
    "    ### A non-trivial upper bound on MAXCUT.\n",
    "    upperbound = (sum(W) - dot(W, S.value)) / 4\n",
    "\n",
    "    \"Random origin-centered hyperplanes, generated to produce partitions of the graph.\"\n",
    "    maxcut = 0\n",
    "    maxpartition = nothing\n",
    "    \n",
    "    for i in 1:iter\n",
    "        gweval = X' * randn(k)\n",
    "        partition = (findall(x->x>0, gweval), findall(x->x<0, gweval))\n",
    "        cut = sum(W[partition...])\n",
    "\n",
    "        if cut > maxcut\n",
    "            maxpartition = partition\n",
    "            maxcut = cut\n",
    "        end\n",
    "\n",
    "        upperbound - maxcut < tol && break\n",
    "        i == iter && println(\"Max iterations reached.\")\n",
    "    end\n",
    "    return round(maxcut; digits=3), maxpartition\n",
    "end\n"
   ]
  },
  {
   "cell_type": "code",
   "execution_count": 8,
   "metadata": {},
   "outputs": [
    {
     "name": "stdout",
     "output_type": "stream",
     "text": [
      "\u001b[37m\u001b[1mTest Summary: | \u001b[22m\u001b[39m\u001b[32m\u001b[1mPass  \u001b[22m\u001b[39m\u001b[36m\u001b[1mTotal\u001b[22m\u001b[39m\n",
      "max cut       | \u001b[32m   2  \u001b[39m\u001b[36m    2\u001b[39m\n"
     ]
    },
    {
     "data": {
      "text/plain": [
       "Test.DefaultTestSet(\"max cut\", Any[], 2, false)"
      ]
     },
     "execution_count": 8,
     "metadata": {},
     "output_type": "execute_result"
    }
   ],
   "source": [
    "using Test\n",
    "@testset \"max cut\" begin\n",
    "    W = [0 5 2 1 0;\n",
    "         5 0 3 2 0;\n",
    "         2 3 0 0 0;\n",
    "         1 2 0 0 4;\n",
    "         0 0 0 4 0]\n",
    "\n",
    "    maxcut, maxpartition = goemansWilliamson(W)\n",
    "    @test maxcut == 14\n",
    "    @test [2,5] in maxpartition\n",
    "end"
   ]
  }
 ],
 "metadata": {
  "kernelspec": {
   "display_name": "Julia 1.1.1",
   "language": "julia",
   "name": "julia-1.1"
  },
  "language_info": {
   "file_extension": ".jl",
   "mimetype": "application/julia",
   "name": "julia",
   "version": "1.1.1"
  }
 },
 "nbformat": 4,
 "nbformat_minor": 2
}
